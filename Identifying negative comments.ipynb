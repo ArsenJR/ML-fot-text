{
 "cells": [
  {
   "cell_type": "markdown",
   "metadata": {
    "toc": true
   },
   "source": [
    "<h1>Содержание<span class=\"tocSkip\"></span></h1>\n",
    "<li><span><a href=\"#Подготовка\" data-toc-modified-id=\"Подготовка-1\"><span class=\"toc-item-num\">1&nbsp;&nbsp;</span>Подготовка</a></span><ul class=\"toc-item\"><li><span><a href=\"#Вывод\" data-toc-modified-id=\"Вывод-1.1\"><span class=\"toc-item-num\">1.1&nbsp;&nbsp;</span>Вывод</a></span></li></ul></li><li><span><a href=\"#Обучение\" data-toc-modified-id=\"Обучение-2\"><span class=\"toc-item-num\">2&nbsp;&nbsp;</span>Обучение</a></span></li><li><span><a href=\"#Выводы\" data-toc-modified-id=\"Выводы-3\"><span class=\"toc-item-num\">3&nbsp;&nbsp;</span>Выводы</a></span></li><li><span><a href=\"#Чек-лист-проверки\" data-toc-modified-id=\"Чек-лист-проверки-4\"><span class=\"toc-item-num\">4&nbsp;&nbsp;</span>Чек-лист проверки</a></span></li></ul></div>"
   ]
  },
  {
   "cell_type": "markdown",
   "metadata": {},
   "source": [
    "Нам необходимо создать инструмент, который будет искать токсичные комментарии и отправлять их на модерацию. \n",
    "\n",
    "Обучим модель классифицировать комментарии на позитивные и негативные. В вашем распоряжении набор данных с разметкой о токсичности правок.\n",
    "\n",
    "Постройте модель со значением метрики качества *F1* не меньше 0.75."
   ]
  },
  {
   "cell_type": "markdown",
   "metadata": {},
   "source": [
    "## Подготовка"
   ]
  },
  {
   "cell_type": "code",
   "execution_count": 2,
   "metadata": {},
   "outputs": [],
   "source": [
    "# подключим все необходимые библиотеки\n",
    "\n",
    "\n",
    "import pandas as pd\n",
    "import re\n",
    "import nltk\n",
    "import numpy as np\n",
    "from nltk.stem import WordNetLemmatizer\n",
    "from nltk.corpus import stopwords as nltk_stopwords\n",
    "import spacy\n",
    "from sklearn.feature_extraction.text import CountVectorizer \n",
    "from sklearn.feature_extraction.text import TfidfVectorizer\n",
    "from sklearn.model_selection import train_test_split\n",
    "from sklearn.metrics import f1_score\n",
    "from sklearn.linear_model import LogisticRegression\n",
    "from sklearn.tree import DecisionTreeClassifier\n",
    "from sklearn.ensemble import RandomForestClassifier"
   ]
  },
  {
   "cell_type": "code",
   "execution_count": 3,
   "metadata": {},
   "outputs": [
    {
     "name": "stderr",
     "output_type": "stream",
     "text": [
      "[nltk_data] Downloading package stopwords to /home/jovyan/nltk_data...\n",
      "[nltk_data]   Package stopwords is already up-to-date!\n",
      "[nltk_data] Downloading package wordnet to /home/jovyan/nltk_data...\n",
      "[nltk_data]   Package wordnet is already up-to-date!\n",
      "[nltk_data] Downloading package averaged_perceptron_tagger to\n",
      "[nltk_data]     /home/jovyan/nltk_data...\n",
      "[nltk_data]   Package averaged_perceptron_tagger is already up-to-\n",
      "[nltk_data]       date!\n"
     ]
    }
   ],
   "source": [
    "nltk.download('stopwords')\n",
    "nltk.download('wordnet')\n",
    "nltk.download('averaged_perceptron_tagger')\n",
    "nlp = spacy.load('en_core_web_sm')"
   ]
  },
  {
   "cell_type": "markdown",
   "metadata": {},
   "source": [
    "Загрузим и изучим данные."
   ]
  },
  {
   "cell_type": "code",
   "execution_count": 4,
   "metadata": {},
   "outputs": [],
   "source": [
    "data = pd.read_csv('/datasets/toxic_comments.csv')"
   ]
  },
  {
   "cell_type": "code",
   "execution_count": 5,
   "metadata": {},
   "outputs": [
    {
     "data": {
      "text/html": [
       "<div>\n",
       "<style scoped>\n",
       "    .dataframe tbody tr th:only-of-type {\n",
       "        vertical-align: middle;\n",
       "    }\n",
       "\n",
       "    .dataframe tbody tr th {\n",
       "        vertical-align: top;\n",
       "    }\n",
       "\n",
       "    .dataframe thead th {\n",
       "        text-align: right;\n",
       "    }\n",
       "</style>\n",
       "<table border=\"1\" class=\"dataframe\">\n",
       "  <thead>\n",
       "    <tr style=\"text-align: right;\">\n",
       "      <th></th>\n",
       "      <th>text</th>\n",
       "      <th>toxic</th>\n",
       "    </tr>\n",
       "  </thead>\n",
       "  <tbody>\n",
       "    <tr>\n",
       "      <td>0</td>\n",
       "      <td>Explanation\\nWhy the edits made under my usern...</td>\n",
       "      <td>0</td>\n",
       "    </tr>\n",
       "    <tr>\n",
       "      <td>1</td>\n",
       "      <td>D'aww! He matches this background colour I'm s...</td>\n",
       "      <td>0</td>\n",
       "    </tr>\n",
       "    <tr>\n",
       "      <td>2</td>\n",
       "      <td>Hey man, I'm really not trying to edit war. It...</td>\n",
       "      <td>0</td>\n",
       "    </tr>\n",
       "    <tr>\n",
       "      <td>3</td>\n",
       "      <td>\"\\nMore\\nI can't make any real suggestions on ...</td>\n",
       "      <td>0</td>\n",
       "    </tr>\n",
       "    <tr>\n",
       "      <td>4</td>\n",
       "      <td>You, sir, are my hero. Any chance you remember...</td>\n",
       "      <td>0</td>\n",
       "    </tr>\n",
       "    <tr>\n",
       "      <td>5</td>\n",
       "      <td>\"\\n\\nCongratulations from me as well, use the ...</td>\n",
       "      <td>0</td>\n",
       "    </tr>\n",
       "    <tr>\n",
       "      <td>6</td>\n",
       "      <td>COCKSUCKER BEFORE YOU PISS AROUND ON MY WORK</td>\n",
       "      <td>1</td>\n",
       "    </tr>\n",
       "    <tr>\n",
       "      <td>7</td>\n",
       "      <td>Your vandalism to the Matt Shirvington article...</td>\n",
       "      <td>0</td>\n",
       "    </tr>\n",
       "    <tr>\n",
       "      <td>8</td>\n",
       "      <td>Sorry if the word 'nonsense' was offensive to ...</td>\n",
       "      <td>0</td>\n",
       "    </tr>\n",
       "    <tr>\n",
       "      <td>9</td>\n",
       "      <td>alignment on this subject and which are contra...</td>\n",
       "      <td>0</td>\n",
       "    </tr>\n",
       "  </tbody>\n",
       "</table>\n",
       "</div>"
      ],
      "text/plain": [
       "                                                text  toxic\n",
       "0  Explanation\\nWhy the edits made under my usern...      0\n",
       "1  D'aww! He matches this background colour I'm s...      0\n",
       "2  Hey man, I'm really not trying to edit war. It...      0\n",
       "3  \"\\nMore\\nI can't make any real suggestions on ...      0\n",
       "4  You, sir, are my hero. Any chance you remember...      0\n",
       "5  \"\\n\\nCongratulations from me as well, use the ...      0\n",
       "6       COCKSUCKER BEFORE YOU PISS AROUND ON MY WORK      1\n",
       "7  Your vandalism to the Matt Shirvington article...      0\n",
       "8  Sorry if the word 'nonsense' was offensive to ...      0\n",
       "9  alignment on this subject and which are contra...      0"
      ]
     },
     "execution_count": 5,
     "metadata": {},
     "output_type": "execute_result"
    }
   ],
   "source": [
    "data.head(10)"
   ]
  },
  {
   "cell_type": "code",
   "execution_count": 6,
   "metadata": {},
   "outputs": [
    {
     "name": "stdout",
     "output_type": "stream",
     "text": [
      "<class 'pandas.core.frame.DataFrame'>\n",
      "RangeIndex: 159571 entries, 0 to 159570\n",
      "Data columns (total 2 columns):\n",
      "text     159571 non-null object\n",
      "toxic    159571 non-null int64\n",
      "dtypes: int64(1), object(1)\n",
      "memory usage: 2.4+ MB\n"
     ]
    }
   ],
   "source": [
    "data.info()"
   ]
  },
  {
   "cell_type": "markdown",
   "metadata": {},
   "source": [
    "Данные изучили, переходим к предобработке. Лемматезируем текст каждого комментария и избавимся от лишних символов."
   ]
  },
  {
   "cell_type": "markdown",
   "metadata": {},
   "source": [
    "Почистим текст от стоп слов, уберём регистр и лишние знаки."
   ]
  },
  {
   "cell_type": "code",
   "execution_count": 7,
   "metadata": {},
   "outputs": [],
   "source": [
    "data['text'] = data['text'].str.lower()"
   ]
  },
  {
   "cell_type": "code",
   "execution_count": 8,
   "metadata": {},
   "outputs": [],
   "source": [
    "# преобразуем столбец text в список текстов\n",
    "corpus = list(data['text'])"
   ]
  },
  {
   "cell_type": "code",
   "execution_count": 9,
   "metadata": {},
   "outputs": [],
   "source": [
    "# избавимся от лишних символов и знаков препинания\n",
    "def clear_text(row):\n",
    "    text = re.sub(r\"[^a-zA-Z']\", ' ', row)\n",
    "    text = ' '.join(text.split())\n",
    "    return text"
   ]
  },
  {
   "cell_type": "code",
   "execution_count": 10,
   "metadata": {},
   "outputs": [],
   "source": [
    "for i in range(len(corpus)):\n",
    "    corpus[i] = clear_text(corpus[i])"
   ]
  },
  {
   "cell_type": "code",
   "execution_count": 10,
   "metadata": {},
   "outputs": [
    {
     "name": "stdout",
     "output_type": "stream",
     "text": [
      "CPU times: user 35min 38s, sys: 34.6 s, total: 36min 13s\n",
      "Wall time: 36min 31s\n"
     ]
    }
   ],
   "source": [
    "%%time \n",
    "\n",
    "lemmatized_text = []\n",
    "for i in range(len(corpus)):\n",
    "    doc = nlp(corpus[i])\n",
    "    lemm_sentence = ''\n",
    "    \n",
    "    for token in doc:\n",
    "        if str(token.lemma_) != '-PRON-':\n",
    "            lemm_sentence+=str(token.lemma_)\n",
    "            lemm_sentence+=' '\n",
    "    lemmatized_text.append(lemm_sentence)"
   ]
  },
  {
   "cell_type": "code",
   "execution_count": 11,
   "metadata": {},
   "outputs": [],
   "source": [
    "data['lemmatized_text'] = lemmatized_text"
   ]
  },
  {
   "cell_type": "code",
   "execution_count": 18,
   "metadata": {},
   "outputs": [],
   "source": [
    "data.to_csv('out', index=False)"
   ]
  },
  {
   "cell_type": "code",
   "execution_count": 11,
   "metadata": {},
   "outputs": [],
   "source": [
    "data = pd.read_csv('out')\n",
    "\n",
    "lemmatized_text = list(data['lemmatized_text'])"
   ]
  },
  {
   "cell_type": "markdown",
   "metadata": {},
   "source": [
    "### Вывод\n",
    "\n",
    "Загрузили и изучили данные. Далее перешли к их предобработке. Комментарии привели к нижнему регистру, очистили текст от лишних символов, привели слова к начальной форме. Далее переходим к обучению моделей."
   ]
  },
  {
   "cell_type": "markdown",
   "metadata": {},
   "source": [
    "## Обучение"
   ]
  },
  {
   "cell_type": "markdown",
   "metadata": {},
   "source": [
    "В данной части нашей работы обучим разные модели и рассчитаем качество каждой метрикой F1."
   ]
  },
  {
   "cell_type": "markdown",
   "metadata": {},
   "source": [
    "Поделим выборки на тренировочную и тестовую. Для определения тональности применим величины TF-IDF как признаки."
   ]
  },
  {
   "cell_type": "code",
   "execution_count": 18,
   "metadata": {},
   "outputs": [],
   "source": [
    "train_corpus, temporary_corpus, target_train, target_temporary = train_test_split(\n",
    "    data['lemmatized_text'], data['toxic'], test_size=0.4, random_state=300500)\n",
    "\n",
    "valid_corpus, test_corpus, target_valid, target_test = train_test_split(\n",
    "    temporary_corpus, target_temporary, test_size=0.5, random_state=300500)"
   ]
  },
  {
   "cell_type": "code",
   "execution_count": 19,
   "metadata": {},
   "outputs": [
    {
     "name": "stdout",
     "output_type": "stream",
     "text": [
      "(95742,) (31915,) (31914,)\n"
     ]
    }
   ],
   "source": [
    "print(target_train.shape, target_test.shape, target_valid.shape)"
   ]
  },
  {
   "cell_type": "code",
   "execution_count": 21,
   "metadata": {},
   "outputs": [],
   "source": [
    "stopwords = set(nltk_stopwords.words('english'))\n",
    "count_tf_idf = TfidfVectorizer(stop_words=stopwords)"
   ]
  },
  {
   "cell_type": "code",
   "execution_count": 22,
   "metadata": {},
   "outputs": [],
   "source": [
    "train_tf_idf = count_tf_idf.fit_transform(train_corpus.values.astype('U'))\n",
    "valid_tf_idf = count_tf_idf.transform(valid_corpus.values.astype('U'))\n",
    "test_tf_idf = count_tf_idf.transform(test_corpus.values.astype('U'))"
   ]
  },
  {
   "cell_type": "markdown",
   "metadata": {},
   "source": [
    "Далее переходим к оценке тональности. То есть построим модель и спрогнозируем результат на тестовой выборке, затем рассчитаем качество модели при помощи метрики F1_score. Для прогнозирования попробуем 3 модели:\n",
    "* LogisticRegression\n",
    "* DecisionTreeClassifier\n",
    "* RandomForestClassifier"
   ]
  },
  {
   "cell_type": "code",
   "execution_count": 23,
   "metadata": {},
   "outputs": [
    {
     "name": "stderr",
     "output_type": "stream",
     "text": [
      "/opt/conda/lib/python3.7/site-packages/sklearn/linear_model/logistic.py:432: FutureWarning: Default solver will be changed to 'lbfgs' in 0.22. Specify a solver to silence this warning.\n",
      "  FutureWarning)\n"
     ]
    },
    {
     "name": "stdout",
     "output_type": "stream",
     "text": [
      "0.7204077779875402\n"
     ]
    }
   ],
   "source": [
    "model = LogisticRegression(random_state=30050).fit(train_tf_idf, target_train)\n",
    "predictions = list(model.predict(valid_tf_idf))\n",
    "print(f1_score(target_valid, predictions))"
   ]
  },
  {
   "cell_type": "markdown",
   "metadata": {},
   "source": [
    "Попробуем улучшить метрику качества, изменив пороговое значение."
   ]
  },
  {
   "cell_type": "code",
   "execution_count": 46,
   "metadata": {},
   "outputs": [
    {
     "name": "stdout",
     "output_type": "stream",
     "text": [
      "Best F1-score = 0.7711386696730554, threshold = 0.38\n"
     ]
    }
   ],
   "source": [
    "best_f1 = 0\n",
    "best_threshold = 0\n",
    "model = LogisticRegression(random_state=30050).fit(train_tf_idf, target_train)\n",
    "probabilities_valid = model.predict_proba(valid_tf_idf)\n",
    "probabilities_one_valid = probabilities_valid[:, 1]\n",
    "\n",
    "for threshold in np.arange(0, 0.4, 0.02):\n",
    "    predicted_valid = probabilities_one_valid > threshold\n",
    "    if f1_score(target_valid, predicted_valid) > best_f1:\n",
    "        best_f1 = f1_score(target_valid, predicted_valid)\n",
    "        best_threshold = threshold\n",
    "print(f'Best F1-score = {best_f1}, threshold = {threshold}')"
   ]
  },
  {
   "cell_type": "markdown",
   "metadata": {},
   "source": [
    "Логистическая регрессия показала значение метрики f1_score равное 0.73, изменив значение порога на 0.38 удалось достичь значение метрики качества равного 0.73. Далее посмотрим, как покажет себя модель DecisionTree."
   ]
  },
  {
   "cell_type": "code",
   "execution_count": 25,
   "metadata": {},
   "outputs": [
    {
     "name": "stdout",
     "output_type": "stream",
     "text": [
      "0.7052779075198505\n"
     ]
    }
   ],
   "source": [
    "model = DecisionTreeClassifier(random_state=30050).fit(train_tf_idf, target_train)\n",
    "predictions = list(model.predict(valid_tf_idf))\n",
    "print(f1_score(target_valid, predictions))"
   ]
  },
  {
   "cell_type": "code",
   "execution_count": 26,
   "metadata": {},
   "outputs": [
    {
     "name": "stdout",
     "output_type": "stream",
     "text": [
      "Best F1-score = 0.6943086250733425, max_depth = 200\n"
     ]
    }
   ],
   "source": [
    "best_f1 = 0\n",
    "best_depth = 0\n",
    "\n",
    "for depth in [1, 10, 100, 200]:\n",
    "    model = DecisionTreeClassifier(random_state=30050, max_depth=depth).fit(train_tf_idf, target_train)\n",
    "    predictions = list(model.predict(valid_tf_idf))\n",
    "    if f1_score(target_valid, predictions) > best_f1:\n",
    "        best_f1 = f1_score(target_valid, predicted_valid)\n",
    "        best_depth = depth\n",
    "print(f'Best F1-score = {best_f1}, max_depth = {depth}')"
   ]
  },
  {
   "cell_type": "markdown",
   "metadata": {},
   "source": [
    "Использую модель DecisionTree, лучшее значение метрики F1, которое удалось получить равно 0.7, что меньше чем у LogisticRegression. Далее посмотрим, как покажет себя RandomForestClassifier."
   ]
  },
  {
   "cell_type": "code",
   "execution_count": 27,
   "metadata": {},
   "outputs": [
    {
     "name": "stderr",
     "output_type": "stream",
     "text": [
      "/opt/conda/lib/python3.7/site-packages/sklearn/ensemble/forest.py:245: FutureWarning: The default value of n_estimators will change from 10 in version 0.20 to 100 in 0.22.\n",
      "  \"10 in version 0.20 to 100 in 0.22.\", FutureWarning)\n"
     ]
    },
    {
     "name": "stdout",
     "output_type": "stream",
     "text": [
      "0.654639175257732\n"
     ]
    }
   ],
   "source": [
    "model = RandomForestClassifier(random_state=30050).fit(train_tf_idf, target_train)\n",
    "predictions = list(model.predict(valid_tf_idf))\n",
    "print(f1_score(target_valid, predictions))"
   ]
  },
  {
   "cell_type": "code",
   "execution_count": 30,
   "metadata": {},
   "outputs": [
    {
     "name": "stdout",
     "output_type": "stream",
     "text": [
      "Best F1-score = 0.6943086250733425, n_estimators = 100\n"
     ]
    }
   ],
   "source": [
    "best_f1 = 0\n",
    "best_est = 0\n",
    "for n_est in [10, 50, 100]:\n",
    "    model = RandomForestClassifier(random_state=30050, n_estimators=n_est).fit(train_tf_idf, target_train)\n",
    "    predictions = list(model.predict(valid_tf_idf))\n",
    "    \n",
    "    if f1_score(target_valid, predictions) > best_f1:\n",
    "        best_f1 = f1_score(target_valid, predicted_valid)\n",
    "        best_est = n_est\n",
    "print(f'Best F1-score = {best_f1}, n_estimators = {n_est}')"
   ]
  },
  {
   "cell_type": "code",
   "execution_count": 29,
   "metadata": {},
   "outputs": [
    {
     "name": "stderr",
     "output_type": "stream",
     "text": [
      "/opt/conda/lib/python3.7/site-packages/sklearn/metrics/classification.py:1437: UndefinedMetricWarning: F-score is ill-defined and being set to 0.0 due to no predicted samples.\n",
      "  'precision', 'predicted', average, warn_for)\n"
     ]
    },
    {
     "name": "stdout",
     "output_type": "stream",
     "text": [
      "Best F1-score = 0.6943086250733425, max_depth = 500\n"
     ]
    }
   ],
   "source": [
    "best_f1 = 0\n",
    "best_depth = 0\n",
    "\n",
    "for depth in [10, 100, 500]:\n",
    "    model = RandomForestClassifier(random_state=30050, n_estimators=50, max_depth=depth).fit(train_tf_idf, target_train)\n",
    "    predictions = list(model.predict(valid_tf_idf))\n",
    "    if f1_score(target_valid, predictions) > best_f1:\n",
    "        best_f1 = f1_score(target_valid, predicted_valid)\n",
    "        best_depth = depth\n",
    "print(f'Best F1-score = {best_f1}, max_depth = {depth}')"
   ]
  },
  {
   "cell_type": "markdown",
   "metadata": {},
   "source": [
    "Использую модель RandomForestClassifier, лучшее значение метрики F1, которое удалось получить равно 0.69 (если увеличить значения гиперпараметров, возможно, модель покажет лучшее значения, но тогда она будет обучаться долго), что меньше чем у LogisticRegression.\n",
    "Таким образом, LogisticRegression показала себя лучше всех. Проверим её на тестовой выборке, посмотрим, какое значение метрики f1 покажет модель."
   ]
  },
  {
   "cell_type": "code",
   "execution_count": 49,
   "metadata": {},
   "outputs": [
    {
     "name": "stdout",
     "output_type": "stream",
     "text": [
      "F1 score = 0.7535528596187175\n"
     ]
    }
   ],
   "source": [
    "threshold = 0.38\n",
    "\n",
    "model = LogisticRegression(random_state=30050).fit(train_tf_idf, target_train)\n",
    "probabilities_test = model.predict_proba(test_tf_idf)\n",
    "probabilities_one_test = probabilities_test[:, 1]\n",
    "\n",
    "predicted_test = probabilities_one_test > threshold\n",
    "\n",
    "print(f'F1 score = {f1_score(target_test, predicted_test)}')"
   ]
  },
  {
   "cell_type": "markdown",
   "metadata": {},
   "source": [
    "## Выводы"
   ]
  },
  {
   "cell_type": "markdown",
   "metadata": {},
   "source": [
    "В данной работе мы подбирали лучшую модель для классификации комментариев на позитивные и негативные. Мы подготовили наши данные, лемматизировали их. Затем подготовили наши признаки, для оценки важности слов использовали величину TF-IDF. Нашей задачей была: Построить модель со значением метрики качества F1 не меньше 0.75. Нам удалось её выполнить, мы воспользовались тремя моделями: LogisticRegression, DecisionTreeClassifier, RandomForestClassifier. Лучше всех себя показала логистическая регрессия, изменив пороговое значение для предсказывания на 0.38. Удалось получить значение метрики F1 0.753. таким образом, интернет-магазину «Викишоп» для классификации тональности комментариев советую использовать модель логистической регрессии с пороговым значением равным 0.38."
   ]
  },
  {
   "cell_type": "markdown",
   "metadata": {},
   "source": [
    "## Чек-лист проверки"
   ]
  },
  {
   "cell_type": "markdown",
   "metadata": {},
   "source": [
    "- [x]  Jupyter Notebook открыт\n",
    "- [ ]  Весь код выполняется без ошибок\n",
    "- [ ]  Ячейки с кодом расположены в порядке исполнения\n",
    "- [ ]  Данные загружены и подготовлены\n",
    "- [ ]  Модели обучены\n",
    "- [ ]  Значение метрики *F1* не меньше 0.75\n",
    "- [ ]  Выводы написаны"
   ]
  }
 ],
 "metadata": {
  "ExecuteTimeLog": [
   {
    "duration": 924,
    "start_time": "2022-01-21T08:58:32.927Z"
   },
   {
    "duration": 696,
    "start_time": "2022-01-21T08:58:46.912Z"
   },
   {
    "duration": 21,
    "start_time": "2022-01-21T08:58:55.935Z"
   },
   {
    "duration": 30,
    "start_time": "2022-01-21T08:59:10.174Z"
   },
   {
    "duration": 4,
    "start_time": "2022-01-21T09:05:26.871Z"
   },
   {
    "duration": 37,
    "start_time": "2022-01-21T09:15:13.248Z"
   },
   {
    "duration": 4,
    "start_time": "2022-01-21T09:16:44.911Z"
   },
   {
    "duration": 38,
    "start_time": "2022-01-21T09:16:51.870Z"
   },
   {
    "duration": 5,
    "start_time": "2022-01-21T09:17:00.278Z"
   },
   {
    "duration": 966,
    "start_time": "2022-01-21T09:17:15.992Z"
   },
   {
    "duration": 9,
    "start_time": "2022-01-21T09:17:31.616Z"
   },
   {
    "duration": 9,
    "start_time": "2022-01-21T09:17:33.698Z"
   },
   {
    "duration": 677,
    "start_time": "2022-01-21T09:17:36.945Z"
   },
   {
    "duration": 5,
    "start_time": "2022-01-21T09:18:05.141Z"
   },
   {
    "duration": 4,
    "start_time": "2022-01-21T09:18:35.613Z"
   },
   {
    "duration": 683,
    "start_time": "2022-01-21T09:18:36.422Z"
   },
   {
    "duration": 4,
    "start_time": "2022-01-21T09:18:47.985Z"
   },
   {
    "duration": 862,
    "start_time": "2022-01-21T09:18:49.357Z"
   },
   {
    "duration": 6,
    "start_time": "2022-01-21T09:19:42.391Z"
   },
   {
    "duration": 6,
    "start_time": "2022-01-21T09:22:18.978Z"
   },
   {
    "duration": 848,
    "start_time": "2022-01-21T09:22:22.299Z"
   },
   {
    "duration": 828,
    "start_time": "2022-01-21T09:22:42.982Z"
   },
   {
    "duration": 6,
    "start_time": "2022-01-21T09:22:49.290Z"
   },
   {
    "duration": 5,
    "start_time": "2022-01-21T09:24:53.672Z"
   },
   {
    "duration": 846,
    "start_time": "2022-01-21T09:25:05.210Z"
   },
   {
    "duration": 5,
    "start_time": "2022-01-21T09:26:01.775Z"
   },
   {
    "duration": 747,
    "start_time": "2022-01-21T09:26:18.575Z"
   },
   {
    "duration": 5,
    "start_time": "2022-01-21T09:26:27.987Z"
   },
   {
    "duration": 9,
    "start_time": "2022-01-21T09:26:44.671Z"
   },
   {
    "duration": 5,
    "start_time": "2022-01-21T09:27:05.550Z"
   },
   {
    "duration": 4,
    "start_time": "2022-01-21T09:27:14.618Z"
   },
   {
    "duration": 4,
    "start_time": "2022-01-21T09:27:37.600Z"
   },
   {
    "duration": 81,
    "start_time": "2022-01-21T09:28:24.554Z"
   },
   {
    "duration": 2536,
    "start_time": "2022-01-21T09:28:34.491Z"
   },
   {
    "duration": 866,
    "start_time": "2022-01-21T09:30:02.800Z"
   },
   {
    "duration": 829,
    "start_time": "2022-01-21T09:30:15.779Z"
   },
   {
    "duration": 5,
    "start_time": "2022-01-21T09:30:27.140Z"
   },
   {
    "duration": 849,
    "start_time": "2022-01-21T09:30:27.856Z"
   },
   {
    "duration": 6,
    "start_time": "2022-01-21T09:30:30.081Z"
   },
   {
    "duration": 31,
    "start_time": "2022-01-21T09:31:14.037Z"
   },
   {
    "duration": 66,
    "start_time": "2022-01-21T09:31:22.035Z"
   },
   {
    "duration": 327,
    "start_time": "2022-01-21T09:31:49.663Z"
   },
   {
    "duration": 881,
    "start_time": "2022-01-21T09:32:02.834Z"
   },
   {
    "duration": 906,
    "start_time": "2022-01-21T09:32:23.007Z"
   },
   {
    "duration": 297,
    "start_time": "2022-01-21T09:32:58.338Z"
   },
   {
    "duration": 5,
    "start_time": "2022-01-21T09:33:12.697Z"
   },
   {
    "duration": 5,
    "start_time": "2022-01-21T09:33:19.133Z"
   },
   {
    "duration": 76,
    "start_time": "2022-01-21T09:33:22.672Z"
   },
   {
    "duration": 104,
    "start_time": "2022-01-21T09:33:51.680Z"
   },
   {
    "duration": 546,
    "start_time": "2022-01-21T09:34:00.159Z"
   },
   {
    "duration": 4,
    "start_time": "2022-01-21T09:34:06.780Z"
   },
   {
    "duration": 673,
    "start_time": "2022-01-21T09:34:07.293Z"
   },
   {
    "duration": 11,
    "start_time": "2022-01-21T09:34:07.968Z"
   },
   {
    "duration": 29,
    "start_time": "2022-01-21T09:34:08.481Z"
   },
   {
    "duration": 2622,
    "start_time": "2022-01-21T09:34:10.779Z"
   },
   {
    "duration": 5,
    "start_time": "2022-01-21T09:34:13.404Z"
   },
   {
    "duration": 361,
    "start_time": "2022-01-21T09:34:14.770Z"
   },
   {
    "duration": 388,
    "start_time": "2022-01-21T09:34:23.033Z"
   },
   {
    "duration": 977,
    "start_time": "2022-01-21T09:34:27.984Z"
   },
   {
    "duration": 988,
    "start_time": "2022-01-21T09:34:44.267Z"
   },
   {
    "duration": 4,
    "start_time": "2022-01-21T09:35:13.189Z"
   },
   {
    "duration": 834,
    "start_time": "2022-01-21T09:35:13.855Z"
   },
   {
    "duration": 607,
    "start_time": "2022-01-21T09:35:22.621Z"
   },
   {
    "duration": 5,
    "start_time": "2022-01-21T09:37:08.527Z"
   },
   {
    "duration": 6,
    "start_time": "2022-01-21T09:37:23.354Z"
   },
   {
    "duration": 5,
    "start_time": "2022-01-21T09:37:34.036Z"
   },
   {
    "duration": 753,
    "start_time": "2022-01-21T09:37:34.044Z"
   },
   {
    "duration": 695,
    "start_time": "2022-01-21T09:37:40.249Z"
   },
   {
    "duration": 696,
    "start_time": "2022-01-21T09:37:41.938Z"
   },
   {
    "duration": 19,
    "start_time": "2022-01-21T09:37:42.636Z"
   },
   {
    "duration": 31,
    "start_time": "2022-01-21T09:37:42.658Z"
   },
   {
    "duration": 2600,
    "start_time": "2022-01-21T09:37:42.869Z"
   },
   {
    "duration": 6,
    "start_time": "2022-01-21T09:37:45.473Z"
   },
   {
    "duration": 13,
    "start_time": "2022-01-21T09:37:45.482Z"
   },
   {
    "duration": 204,
    "start_time": "2022-01-21T09:38:09.069Z"
   },
   {
    "duration": 4,
    "start_time": "2022-01-21T09:38:10.538Z"
   },
   {
    "duration": 5,
    "start_time": "2022-01-21T09:38:10.879Z"
   },
   {
    "duration": 6,
    "start_time": "2022-01-21T09:38:43.591Z"
   },
   {
    "duration": 860,
    "start_time": "2022-01-21T09:38:44.140Z"
   },
   {
    "duration": 38,
    "start_time": "2022-01-21T09:39:56.982Z"
   },
   {
    "duration": -1052,
    "start_time": "2022-01-21T09:52:07.739Z"
   },
   {
    "duration": -1053,
    "start_time": "2022-01-21T09:52:07.742Z"
   },
   {
    "duration": -1053,
    "start_time": "2022-01-21T09:52:07.744Z"
   },
   {
    "duration": 11801,
    "start_time": "2022-01-21T09:52:11.524Z"
   },
   {
    "duration": 838,
    "start_time": "2022-01-21T09:53:09.379Z"
   },
   {
    "duration": 4,
    "start_time": "2022-01-21T09:53:25.479Z"
   },
   {
    "duration": 4,
    "start_time": "2022-01-21T09:53:30.982Z"
   },
   {
    "duration": 8535,
    "start_time": "2022-01-21T09:54:03.338Z"
   },
   {
    "duration": 15,
    "start_time": "2022-01-21T09:54:24.906Z"
   },
   {
    "duration": 833,
    "start_time": "2022-01-21T09:54:40.899Z"
   },
   {
    "duration": 8146,
    "start_time": "2022-01-21T09:55:02.060Z"
   },
   {
    "duration": 5059,
    "start_time": "2022-01-21T09:55:13.978Z"
   },
   {
    "duration": 817,
    "start_time": "2022-01-21T09:55:25.643Z"
   },
   {
    "duration": 852,
    "start_time": "2022-01-21T09:55:42.142Z"
   },
   {
    "duration": 5,
    "start_time": "2022-01-21T09:56:10.608Z"
   },
   {
    "duration": 4,
    "start_time": "2022-01-21T09:57:21.246Z"
   },
   {
    "duration": 746,
    "start_time": "2022-01-21T09:57:22.708Z"
   },
   {
    "duration": 4,
    "start_time": "2022-01-21T09:57:41.258Z"
   },
   {
    "duration": 650,
    "start_time": "2022-01-21T09:57:43.688Z"
   },
   {
    "duration": 3,
    "start_time": "2022-01-21T09:57:54.059Z"
   },
   {
    "duration": 854,
    "start_time": "2022-01-21T09:57:56.245Z"
   },
   {
    "duration": 5,
    "start_time": "2022-01-21T09:59:43.138Z"
   },
   {
    "duration": 873,
    "start_time": "2022-01-21T10:00:11.836Z"
   },
   {
    "duration": 1287,
    "start_time": "2022-01-21T10:02:07.669Z"
   },
   {
    "duration": 1293,
    "start_time": "2022-01-21T10:02:18.532Z"
   },
   {
    "duration": 798,
    "start_time": "2022-01-21T10:47:45.407Z"
   },
   {
    "duration": 759,
    "start_time": "2022-01-21T10:47:46.870Z"
   },
   {
    "duration": 19,
    "start_time": "2022-01-21T10:47:47.632Z"
   },
   {
    "duration": 34,
    "start_time": "2022-01-21T10:47:47.654Z"
   },
   {
    "duration": 48,
    "start_time": "2022-01-21T10:47:47.705Z"
   },
   {
    "duration": 5,
    "start_time": "2022-01-21T10:47:48.732Z"
   },
   {
    "duration": 1021,
    "start_time": "2022-01-21T10:47:49.652Z"
   },
   {
    "duration": 12265,
    "start_time": "2022-01-21T10:48:25.058Z"
   },
   {
    "duration": 110,
    "start_time": "2022-01-21T10:48:44.606Z"
   },
   {
    "duration": 98535,
    "start_time": "2022-01-21T10:48:52.242Z"
   },
   {
    "duration": 88938,
    "start_time": "2022-01-21T10:52:31.948Z"
   },
   {
    "duration": 844,
    "start_time": "2022-01-21T10:58:40.651Z"
   },
   {
    "duration": 6,
    "start_time": "2022-01-21T10:59:07.338Z"
   },
   {
    "duration": 886,
    "start_time": "2022-01-21T10:59:32.976Z"
   },
   {
    "duration": 6,
    "start_time": "2022-01-21T10:59:33.865Z"
   },
   {
    "duration": 862,
    "start_time": "2022-01-21T11:05:37.303Z"
   },
   {
    "duration": 834,
    "start_time": "2022-01-21T11:05:53.452Z"
   },
   {
    "duration": 872,
    "start_time": "2022-01-21T11:06:02.289Z"
   },
   {
    "duration": 840,
    "start_time": "2022-01-21T11:06:11.819Z"
   },
   {
    "duration": 870,
    "start_time": "2022-01-21T11:23:50.501Z"
   },
   {
    "duration": 4,
    "start_time": "2022-01-21T11:23:54.012Z"
   },
   {
    "duration": 3,
    "start_time": "2022-01-21T11:24:48.525Z"
   },
   {
    "duration": 465,
    "start_time": "2022-01-21T11:25:15.851Z"
   },
   {
    "duration": 2006,
    "start_time": "2022-01-21T11:25:55.754Z"
   },
   {
    "duration": 4,
    "start_time": "2022-01-21T11:26:09.271Z"
   },
   {
    "duration": 5,
    "start_time": "2022-01-21T11:26:19.937Z"
   },
   {
    "duration": 479,
    "start_time": "2022-01-21T11:26:47.263Z"
   },
   {
    "duration": 5,
    "start_time": "2022-01-21T11:26:51.220Z"
   },
   {
    "duration": 5,
    "start_time": "2022-01-21T11:27:16.233Z"
   },
   {
    "duration": 5,
    "start_time": "2022-01-21T11:27:21.794Z"
   },
   {
    "duration": 6,
    "start_time": "2022-01-21T11:27:47.474Z"
   },
   {
    "duration": 5,
    "start_time": "2022-01-21T11:27:50.488Z"
   },
   {
    "duration": 4,
    "start_time": "2022-01-21T11:29:31.599Z"
   },
   {
    "duration": 5,
    "start_time": "2022-01-21T11:43:45.958Z"
   },
   {
    "duration": 16,
    "start_time": "2022-01-21T11:44:02.988Z"
   },
   {
    "duration": 6,
    "start_time": "2022-01-21T11:44:11.145Z"
   },
   {
    "duration": 5,
    "start_time": "2022-01-21T11:44:31.838Z"
   },
   {
    "duration": 6,
    "start_time": "2022-01-21T11:44:35.293Z"
   },
   {
    "duration": 7,
    "start_time": "2022-01-21T11:45:06.479Z"
   },
   {
    "duration": 121,
    "start_time": "2022-01-21T11:54:35.290Z"
   },
   {
    "duration": 5,
    "start_time": "2022-01-21T11:54:53.217Z"
   },
   {
    "duration": 583,
    "start_time": "2022-01-21T12:05:26.406Z"
   },
   {
    "duration": 358,
    "start_time": "2022-01-21T12:06:23.014Z"
   },
   {
    "duration": 1151,
    "start_time": "2022-01-21T12:06:51.083Z"
   },
   {
    "duration": 397,
    "start_time": "2022-01-21T12:06:57.788Z"
   },
   {
    "duration": 271,
    "start_time": "2022-01-21T12:08:10.720Z"
   },
   {
    "duration": 299,
    "start_time": "2022-01-21T12:08:50.460Z"
   },
   {
    "duration": 270,
    "start_time": "2022-01-21T12:08:52.480Z"
   },
   {
    "duration": 13,
    "start_time": "2022-01-21T12:08:54.394Z"
   },
   {
    "duration": 323,
    "start_time": "2022-01-21T12:09:02.281Z"
   },
   {
    "duration": 10,
    "start_time": "2022-01-21T12:09:05.041Z"
   },
   {
    "duration": 38,
    "start_time": "2022-01-21T12:09:31.066Z"
   },
   {
    "duration": 4,
    "start_time": "2022-01-21T12:10:08.523Z"
   },
   {
    "duration": 4,
    "start_time": "2022-01-21T12:12:01.369Z"
   },
   {
    "duration": 169,
    "start_time": "2022-01-21T12:13:19.508Z"
   },
   {
    "duration": 7,
    "start_time": "2022-01-21T12:13:25.647Z"
   },
   {
    "duration": 7,
    "start_time": "2022-01-21T12:13:33.247Z"
   },
   {
    "duration": 5,
    "start_time": "2022-01-21T12:28:48.896Z"
   },
   {
    "duration": 6,
    "start_time": "2022-01-21T12:29:10.195Z"
   },
   {
    "duration": 6,
    "start_time": "2022-01-21T12:29:22.544Z"
   },
   {
    "duration": 115,
    "start_time": "2022-01-21T12:34:17.950Z"
   },
   {
    "duration": 10,
    "start_time": "2022-01-21T12:34:19.985Z"
   },
   {
    "duration": 4,
    "start_time": "2022-01-21T12:34:36.098Z"
   },
   {
    "duration": 5,
    "start_time": "2022-01-21T12:34:37.654Z"
   },
   {
    "duration": 6,
    "start_time": "2022-01-21T12:34:38.191Z"
   },
   {
    "duration": 5,
    "start_time": "2022-01-21T12:34:44.292Z"
   },
   {
    "duration": 6,
    "start_time": "2022-01-21T12:34:47.787Z"
   },
   {
    "duration": 737,
    "start_time": "2022-01-21T12:35:04.947Z"
   },
   {
    "duration": 5,
    "start_time": "2022-01-21T12:35:12.054Z"
   },
   {
    "duration": 4,
    "start_time": "2022-01-21T12:36:16.850Z"
   },
   {
    "duration": 4,
    "start_time": "2022-01-21T12:36:28.253Z"
   },
   {
    "duration": 5,
    "start_time": "2022-01-21T12:36:42.356Z"
   },
   {
    "duration": 6,
    "start_time": "2022-01-21T12:36:45.416Z"
   },
   {
    "duration": 5384,
    "start_time": "2022-01-21T12:38:01.209Z"
   },
   {
    "duration": 33,
    "start_time": "2022-01-21T12:38:11.117Z"
   },
   {
    "duration": 6,
    "start_time": "2022-01-21T12:38:46.852Z"
   },
   {
    "duration": 4,
    "start_time": "2022-01-21T12:39:01.720Z"
   },
   {
    "duration": 4,
    "start_time": "2022-01-21T12:39:18.353Z"
   },
   {
    "duration": 4,
    "start_time": "2022-01-21T12:40:16.212Z"
   },
   {
    "duration": 80,
    "start_time": "2022-01-21T12:40:47.817Z"
   },
   {
    "duration": 31704,
    "start_time": "2022-01-21T12:41:25.278Z"
   },
   {
    "duration": 761,
    "start_time": "2022-01-21T12:42:04.737Z"
   },
   {
    "duration": 7145,
    "start_time": "2022-01-21T12:42:11.831Z"
   },
   {
    "duration": 7192,
    "start_time": "2022-01-21T12:42:24.472Z"
   },
   {
    "duration": 119294,
    "start_time": "2022-01-21T12:42:45.957Z"
   },
   {
    "duration": 31,
    "start_time": "2022-01-21T12:45:06.949Z"
   },
   {
    "duration": 5,
    "start_time": "2022-01-21T12:45:12.005Z"
   },
   {
    "duration": 5,
    "start_time": "2022-01-21T12:45:17.119Z"
   },
   {
    "duration": 7,
    "start_time": "2022-01-21T12:46:10.548Z"
   },
   {
    "duration": 5,
    "start_time": "2022-01-21T12:46:20.293Z"
   },
   {
    "duration": 38,
    "start_time": "2022-01-21T12:47:48.750Z"
   },
   {
    "duration": 5,
    "start_time": "2022-01-21T12:47:48.824Z"
   },
   {
    "duration": 10,
    "start_time": "2022-01-21T12:48:00.202Z"
   },
   {
    "duration": 5,
    "start_time": "2022-01-21T12:48:31.319Z"
   },
   {
    "duration": 103,
    "start_time": "2022-01-21T12:48:44.426Z"
   },
   {
    "duration": 145,
    "start_time": "2022-01-21T12:48:49.041Z"
   },
   {
    "duration": 5,
    "start_time": "2022-01-21T12:49:16.625Z"
   },
   {
    "duration": 6,
    "start_time": "2022-01-21T12:49:22.605Z"
   },
   {
    "duration": 4,
    "start_time": "2022-01-21T12:54:57.122Z"
   },
   {
    "duration": 3,
    "start_time": "2022-01-21T12:55:01.487Z"
   },
   {
    "duration": 116,
    "start_time": "2022-01-21T12:55:01.983Z"
   },
   {
    "duration": 33,
    "start_time": "2022-01-21T12:55:02.729Z"
   },
   {
    "duration": 4,
    "start_time": "2022-01-21T12:55:11.041Z"
   },
   {
    "duration": 364,
    "start_time": "2022-01-21T12:56:24.548Z"
   },
   {
    "duration": 331,
    "start_time": "2022-01-21T12:56:30.460Z"
   },
   {
    "duration": 338,
    "start_time": "2022-01-21T12:56:45.040Z"
   },
   {
    "duration": 121,
    "start_time": "2022-01-21T12:56:53.421Z"
   },
   {
    "duration": 5,
    "start_time": "2022-01-21T12:57:09.702Z"
   },
   {
    "duration": 6,
    "start_time": "2022-01-21T12:57:28.720Z"
   },
   {
    "duration": 5,
    "start_time": "2022-01-21T12:57:38.146Z"
   },
   {
    "duration": 30,
    "start_time": "2022-01-21T13:00:39.829Z"
   },
   {
    "duration": 14,
    "start_time": "2022-01-21T13:00:39.861Z"
   },
   {
    "duration": 4,
    "start_time": "2022-01-21T13:00:41.704Z"
   },
   {
    "duration": 8,
    "start_time": "2022-01-21T13:00:42.424Z"
   },
   {
    "duration": 697,
    "start_time": "2022-01-21T13:00:43.631Z"
   },
   {
    "duration": 9,
    "start_time": "2022-01-21T13:00:44.331Z"
   },
   {
    "duration": 28,
    "start_time": "2022-01-21T13:00:44.344Z"
   },
   {
    "duration": 329,
    "start_time": "2022-01-21T13:00:44.756Z"
   },
   {
    "duration": 63,
    "start_time": "2022-01-21T13:00:45.088Z"
   },
   {
    "duration": 4,
    "start_time": "2022-01-21T13:00:45.569Z"
   },
   {
    "duration": 5186,
    "start_time": "2022-01-21T13:00:46.120Z"
   },
   {
    "duration": 3,
    "start_time": "2022-01-21T13:00:51.309Z"
   },
   {
    "duration": 108325,
    "start_time": "2022-01-21T13:00:52.873Z"
   },
   {
    "duration": 5,
    "start_time": "2022-01-21T13:02:41.201Z"
   },
   {
    "duration": 6,
    "start_time": "2022-01-21T13:03:27.525Z"
   },
   {
    "duration": 6,
    "start_time": "2022-01-21T13:03:28.062Z"
   },
   {
    "duration": 4,
    "start_time": "2022-01-21T13:03:29.455Z"
   },
   {
    "duration": 151,
    "start_time": "2022-01-21T13:03:30.319Z"
   },
   {
    "duration": 5,
    "start_time": "2022-01-21T13:03:34.404Z"
   },
   {
    "duration": 6,
    "start_time": "2022-01-21T13:03:38.309Z"
   },
   {
    "duration": 6,
    "start_time": "2022-01-21T13:03:41.733Z"
   },
   {
    "duration": 5,
    "start_time": "2022-01-21T13:03:44.720Z"
   },
   {
    "duration": 5,
    "start_time": "2022-01-21T13:03:47.221Z"
   },
   {
    "duration": 6,
    "start_time": "2022-01-21T13:03:50.168Z"
   },
   {
    "duration": 333,
    "start_time": "2022-01-21T13:03:53.381Z"
   },
   {
    "duration": 6,
    "start_time": "2022-01-21T13:03:55.876Z"
   },
   {
    "duration": 5,
    "start_time": "2022-01-21T13:04:01.772Z"
   },
   {
    "duration": 6,
    "start_time": "2022-01-21T13:04:08.695Z"
   },
   {
    "duration": 5,
    "start_time": "2022-01-21T13:04:09.338Z"
   },
   {
    "duration": 4,
    "start_time": "2022-01-21T13:04:15.894Z"
   },
   {
    "duration": 6,
    "start_time": "2022-01-21T13:04:16.429Z"
   },
   {
    "duration": 5,
    "start_time": "2022-01-21T13:04:33.789Z"
   },
   {
    "duration": 330,
    "start_time": "2022-01-21T13:04:49.935Z"
   },
   {
    "duration": 4,
    "start_time": "2022-01-21T13:05:07.093Z"
   },
   {
    "duration": 6,
    "start_time": "2022-01-21T13:05:07.558Z"
   },
   {
    "duration": 5,
    "start_time": "2022-01-21T13:05:12.240Z"
   },
   {
    "duration": 335,
    "start_time": "2022-01-21T13:05:17.408Z"
   },
   {
    "duration": 709,
    "start_time": "2022-01-21T13:08:28.520Z"
   },
   {
    "duration": 1579,
    "start_time": "2022-01-21T13:08:43.847Z"
   },
   {
    "duration": 20,
    "start_time": "2022-01-21T13:09:11.580Z"
   },
   {
    "duration": 15,
    "start_time": "2022-01-21T13:09:20.811Z"
   },
   {
    "duration": 14,
    "start_time": "2022-01-21T13:09:22.379Z"
   },
   {
    "duration": 6,
    "start_time": "2022-01-21T13:09:37.853Z"
   },
   {
    "duration": 24,
    "start_time": "2022-01-21T13:10:06.900Z"
   },
   {
    "duration": 5,
    "start_time": "2022-01-21T13:10:13.619Z"
   },
   {
    "duration": 18,
    "start_time": "2022-01-21T13:10:16.738Z"
   },
   {
    "duration": 5,
    "start_time": "2022-01-21T13:10:17.525Z"
   },
   {
    "duration": 8,
    "start_time": "2022-01-21T13:10:18.204Z"
   },
   {
    "duration": 7,
    "start_time": "2022-01-21T13:12:29.696Z"
   },
   {
    "duration": 5,
    "start_time": "2022-01-21T13:12:35.610Z"
   },
   {
    "duration": 7,
    "start_time": "2022-01-21T13:13:01.630Z"
   },
   {
    "duration": 5,
    "start_time": "2022-01-21T13:13:02.259Z"
   },
   {
    "duration": 4,
    "start_time": "2022-01-21T13:13:13.703Z"
   },
   {
    "duration": 8,
    "start_time": "2022-01-21T13:13:15.397Z"
   },
   {
    "duration": 20,
    "start_time": "2022-01-21T13:13:18.884Z"
   },
   {
    "duration": 5,
    "start_time": "2022-01-21T13:13:19.229Z"
   },
   {
    "duration": 11,
    "start_time": "2022-01-21T13:13:19.559Z"
   },
   {
    "duration": 5,
    "start_time": "2022-01-21T13:13:23.740Z"
   },
   {
    "duration": 10,
    "start_time": "2022-01-21T13:14:22.896Z"
   },
   {
    "duration": 5,
    "start_time": "2022-01-21T13:14:24.923Z"
   },
   {
    "duration": 4082,
    "start_time": "2022-01-21T13:15:16.293Z"
   },
   {
    "duration": 21,
    "start_time": "2022-01-21T13:17:18.281Z"
   },
   {
    "duration": 39,
    "start_time": "2022-01-21T13:17:49.229Z"
   },
   {
    "duration": 250,
    "start_time": "2022-01-21T13:20:03.998Z"
   },
   {
    "duration": 270,
    "start_time": "2022-01-21T13:20:12.142Z"
   },
   {
    "duration": 56512,
    "start_time": "2022-01-21T13:20:36.484Z"
   },
   {
    "duration": 1586,
    "start_time": "2022-01-21T13:21:44.657Z"
   },
   {
    "duration": 7,
    "start_time": "2022-01-21T13:21:53.615Z"
   },
   {
    "duration": 5,
    "start_time": "2022-01-21T13:21:56.884Z"
   },
   {
    "duration": 5,
    "start_time": "2022-01-21T13:22:17.111Z"
   },
   {
    "duration": 205498,
    "start_time": "2022-01-21T13:22:38.245Z"
   },
   {
    "duration": 1576,
    "start_time": "2022-01-21T13:26:08.761Z"
   },
   {
    "duration": 18856,
    "start_time": "2022-01-21T13:26:14.180Z"
   },
   {
    "duration": 2664463,
    "start_time": "2022-01-21T13:30:40.639Z"
   },
   {
    "duration": 28,
    "start_time": "2022-01-21T14:26:25.088Z"
   },
   {
    "duration": 28,
    "start_time": "2022-01-21T14:29:45.229Z"
   },
   {
    "duration": 18,
    "start_time": "2022-01-21T14:29:47.857Z"
   },
   {
    "duration": 72,
    "start_time": "2022-01-21T14:29:54.966Z"
   },
   {
    "duration": 188,
    "start_time": "2022-01-21T14:30:36.211Z"
   },
   {
    "duration": 190,
    "start_time": "2022-01-21T14:30:40.977Z"
   },
   {
    "duration": 4,
    "start_time": "2022-01-21T14:31:17.396Z"
   },
   {
    "duration": 337,
    "start_time": "2022-01-21T14:41:20.454Z"
   },
   {
    "duration": 525,
    "start_time": "2022-01-21T14:42:06.900Z"
   },
   {
    "duration": 345,
    "start_time": "2022-01-21T14:42:15.425Z"
   },
   {
    "duration": 5,
    "start_time": "2022-01-21T14:42:28.377Z"
   },
   {
    "duration": 9654,
    "start_time": "2022-01-21T14:42:38.337Z"
   },
   {
    "duration": 5,
    "start_time": "2022-01-21T14:43:01.709Z"
   },
   {
    "duration": 8,
    "start_time": "2022-01-21T14:43:03.901Z"
   },
   {
    "duration": 5,
    "start_time": "2022-01-21T14:43:09.192Z"
   },
   {
    "duration": 15,
    "start_time": "2022-01-21T14:43:12.784Z"
   },
   {
    "duration": 69,
    "start_time": "2022-01-21T14:43:19.856Z"
   },
   {
    "duration": 655,
    "start_time": "2022-01-21T14:43:22.780Z"
   },
   {
    "duration": 9323,
    "start_time": "2022-01-21T14:43:28.585Z"
   },
   {
    "duration": 5,
    "start_time": "2022-01-21T14:43:53.363Z"
   },
   {
    "duration": 5,
    "start_time": "2022-01-21T14:44:02.404Z"
   },
   {
    "duration": 5,
    "start_time": "2022-01-21T14:44:05.831Z"
   },
   {
    "duration": 5,
    "start_time": "2022-01-21T14:44:08.488Z"
   },
   {
    "duration": 5,
    "start_time": "2022-01-21T14:44:11.020Z"
   },
   {
    "duration": 10465,
    "start_time": "2022-01-21T14:44:29.384Z"
   },
   {
    "duration": 330,
    "start_time": "2022-01-21T14:44:39.852Z"
   },
   {
    "duration": 6,
    "start_time": "2022-01-21T14:44:44.517Z"
   },
   {
    "duration": 6,
    "start_time": "2022-01-21T14:44:49.113Z"
   },
   {
    "duration": 6,
    "start_time": "2022-01-21T14:44:52.462Z"
   },
   {
    "duration": 4,
    "start_time": "2022-01-21T14:48:00.342Z"
   },
   {
    "duration": 7,
    "start_time": "2022-01-21T14:48:23.740Z"
   },
   {
    "duration": 30,
    "start_time": "2022-01-21T14:48:31.498Z"
   },
   {
    "duration": 134,
    "start_time": "2022-01-21T14:51:53.400Z"
   },
   {
    "duration": 5,
    "start_time": "2022-01-21T14:52:51.336Z"
   },
   {
    "duration": 25,
    "start_time": "2022-01-21T15:10:38.488Z"
   },
   {
    "duration": 79,
    "start_time": "2022-01-21T15:14:56.134Z"
   },
   {
    "duration": 90,
    "start_time": "2022-01-21T15:15:04.593Z"
   },
   {
    "duration": 28,
    "start_time": "2022-01-21T15:15:09.286Z"
   },
   {
    "duration": 36,
    "start_time": "2022-01-21T15:15:19.997Z"
   },
   {
    "duration": 6,
    "start_time": "2022-01-21T15:15:20.942Z"
   },
   {
    "duration": 77,
    "start_time": "2022-01-21T15:15:26.641Z"
   },
   {
    "duration": 28,
    "start_time": "2022-01-21T15:15:27.124Z"
   },
   {
    "duration": 5,
    "start_time": "2022-01-21T15:16:01.543Z"
   },
   {
    "duration": 9611,
    "start_time": "2022-01-21T15:16:04.384Z"
   },
   {
    "duration": 5,
    "start_time": "2022-01-21T15:17:08.557Z"
   },
   {
    "duration": 8946,
    "start_time": "2022-01-21T15:17:44.577Z"
   },
   {
    "duration": 4,
    "start_time": "2022-01-21T15:18:26.000Z"
   },
   {
    "duration": 9139,
    "start_time": "2022-01-21T15:19:59.495Z"
   },
   {
    "duration": 23,
    "start_time": "2022-01-21T15:26:11.098Z"
   },
   {
    "duration": 358135,
    "start_time": "2022-01-21T15:26:41.088Z"
   },
   {
    "duration": -476,
    "start_time": "2022-01-21T15:32:39.714Z"
   },
   {
    "duration": -477,
    "start_time": "2022-01-21T15:32:39.717Z"
   },
   {
    "duration": 9285,
    "start_time": "2022-01-21T15:33:17.745Z"
   },
   {
    "duration": 8777,
    "start_time": "2022-01-21T15:33:27.032Z"
   },
   {
    "duration": 356485,
    "start_time": "2022-01-21T15:33:38.649Z"
   },
   {
    "duration": 15,
    "start_time": "2022-01-21T15:51:26.782Z"
   },
   {
    "duration": 44052,
    "start_time": "2022-01-21T15:53:01.556Z"
   },
   {
    "duration": 71545,
    "start_time": "2022-01-21T15:53:56.724Z"
   },
   {
    "duration": 278323,
    "start_time": "2022-01-21T15:55:32.429Z"
   },
   {
    "duration": 48654,
    "start_time": "2022-01-21T16:11:57.804Z"
   },
   {
    "duration": 789384,
    "start_time": "2022-01-21T16:19:26.067Z"
   },
   {
    "duration": 31842,
    "start_time": "2022-01-21T16:37:55.120Z"
   },
   {
    "duration": 286869,
    "start_time": "2022-01-21T16:38:46.667Z"
   },
   {
    "duration": 9336,
    "start_time": "2022-01-21T17:08:30.441Z"
   },
   {
    "duration": 9135,
    "start_time": "2022-01-21T17:08:41.860Z"
   },
   {
    "duration": 9058,
    "start_time": "2022-01-21T17:09:35.535Z"
   },
   {
    "duration": 9050,
    "start_time": "2022-01-21T17:09:47.157Z"
   },
   {
    "duration": 5,
    "start_time": "2022-01-21T17:10:14.403Z"
   },
   {
    "duration": 10261,
    "start_time": "2022-01-21T17:10:21.545Z"
   },
   {
    "duration": 8732,
    "start_time": "2022-01-21T17:11:11.398Z"
   },
   {
    "duration": 14,
    "start_time": "2022-01-21T17:11:22.519Z"
   },
   {
    "duration": 9831,
    "start_time": "2022-01-21T17:12:14.968Z"
   },
   {
    "duration": 9398,
    "start_time": "2022-01-21T17:12:48.378Z"
   },
   {
    "duration": 9500,
    "start_time": "2022-01-21T17:13:27.906Z"
   },
   {
    "duration": 10489,
    "start_time": "2022-01-21T17:21:37.436Z"
   },
   {
    "duration": 10132,
    "start_time": "2022-01-21T17:22:01.413Z"
   },
   {
    "duration": 9911,
    "start_time": "2022-01-21T17:22:20.606Z"
   },
   {
    "duration": 9545,
    "start_time": "2022-01-21T17:22:41.458Z"
   },
   {
    "duration": 9524,
    "start_time": "2022-01-21T17:23:03.830Z"
   },
   {
    "duration": 182878,
    "start_time": "2022-01-21T17:28:38.381Z"
   },
   {
    "duration": 834024,
    "start_time": "2022-01-21T17:31:47.384Z"
   },
   {
    "duration": 263288,
    "start_time": "2022-01-21T17:45:41.411Z"
   },
   {
    "duration": 6,
    "start_time": "2022-01-21T17:55:02.361Z"
   },
   {
    "duration": 391,
    "start_time": "2022-01-21T17:55:06.916Z"
   },
   {
    "duration": -670,
    "start_time": "2022-01-21T17:55:07.980Z"
   },
   {
    "duration": -676,
    "start_time": "2022-01-21T17:55:07.987Z"
   },
   {
    "duration": 2589,
    "start_time": "2022-01-22T09:56:56.504Z"
   },
   {
    "duration": 2148,
    "start_time": "2022-01-22T09:57:06.892Z"
   },
   {
    "duration": 3210,
    "start_time": "2022-01-22T09:57:09.042Z"
   },
   {
    "duration": 18,
    "start_time": "2022-01-22T09:57:12.253Z"
   },
   {
    "duration": 31,
    "start_time": "2022-01-22T09:57:12.273Z"
   },
   {
    "duration": 265,
    "start_time": "2022-01-22T09:57:12.305Z"
   },
   {
    "duration": 32,
    "start_time": "2022-01-22T09:57:12.572Z"
   },
   {
    "duration": 4,
    "start_time": "2022-01-22T09:57:12.606Z"
   },
   {
    "duration": 3815,
    "start_time": "2022-01-22T09:57:13.005Z"
   },
   {
    "duration": 2191941,
    "start_time": "2022-01-22T09:57:16.822Z"
   },
   {
    "duration": 24,
    "start_time": "2022-01-22T10:33:48.765Z"
   },
   {
    "duration": 13,
    "start_time": "2022-01-22T10:37:08.182Z"
   },
   {
    "duration": 597,
    "start_time": "2022-01-22T10:38:34.729Z"
   },
   {
    "duration": 4,
    "start_time": "2022-01-22T10:41:09.502Z"
   },
   {
    "duration": 5935,
    "start_time": "2022-01-22T10:41:25.083Z"
   },
   {
    "duration": 3361,
    "start_time": "2022-01-22T10:41:42.140Z"
   },
   {
    "duration": 5963,
    "start_time": "2022-01-22T10:42:20.125Z"
   },
   {
    "duration": 4132,
    "start_time": "2022-01-22T10:42:26.645Z"
   },
   {
    "duration": 2164,
    "start_time": "2022-01-22T10:42:47.726Z"
   },
   {
    "duration": 34,
    "start_time": "2022-01-22T11:31:17.351Z"
   },
   {
    "duration": 20,
    "start_time": "2022-01-22T11:31:23.520Z"
   },
   {
    "duration": 298,
    "start_time": "2022-01-22T11:32:34.187Z"
   },
   {
    "duration": 2427,
    "start_time": "2022-01-22T11:32:44.662Z"
   },
   {
    "duration": 283,
    "start_time": "2022-01-22T11:32:49.193Z"
   },
   {
    "duration": 93,
    "start_time": "2022-01-22T11:33:17.386Z"
   },
   {
    "duration": 206,
    "start_time": "2022-01-22T11:33:47.977Z"
   },
   {
    "duration": 5,
    "start_time": "2022-01-22T11:33:51.640Z"
   },
   {
    "duration": 648,
    "start_time": "2022-01-22T11:33:52.121Z"
   },
   {
    "duration": 690,
    "start_time": "2022-01-22T11:34:05.496Z"
   },
   {
    "duration": 666,
    "start_time": "2022-01-22T11:34:22.697Z"
   },
   {
    "duration": 19,
    "start_time": "2022-01-22T11:34:38.560Z"
   },
   {
    "duration": 4,
    "start_time": "2022-01-22T11:34:45.497Z"
   },
   {
    "duration": 94,
    "start_time": "2022-01-22T12:29:01.116Z"
   },
   {
    "duration": 213,
    "start_time": "2022-01-22T12:29:19.582Z"
   },
   {
    "duration": 220,
    "start_time": "2022-01-22T12:29:25.760Z"
   },
   {
    "duration": 20,
    "start_time": "2022-01-22T12:29:29.100Z"
   },
   {
    "duration": 685,
    "start_time": "2022-01-22T12:29:36.762Z"
   },
   {
    "duration": 2074,
    "start_time": "2022-01-22T12:29:53.052Z"
   },
   {
    "duration": 4,
    "start_time": "2022-01-22T12:29:58.865Z"
   },
   {
    "duration": 4,
    "start_time": "2022-01-22T12:30:08.036Z"
   },
   {
    "duration": 93,
    "start_time": "2022-01-22T12:30:30.883Z"
   },
   {
    "duration": 4,
    "start_time": "2022-01-22T12:30:31.945Z"
   },
   {
    "duration": 3,
    "start_time": "2022-01-22T12:30:33.276Z"
   },
   {
    "duration": 596,
    "start_time": "2022-01-22T12:30:33.975Z"
   },
   {
    "duration": 90,
    "start_time": "2022-01-22T12:30:55.532Z"
   },
   {
    "duration": 246,
    "start_time": "2022-01-22T12:30:57.788Z"
   },
   {
    "duration": 262,
    "start_time": "2022-01-22T12:31:51.638Z"
   },
   {
    "duration": 392,
    "start_time": "2022-01-22T12:32:04.806Z"
   },
   {
    "duration": 366,
    "start_time": "2022-01-22T12:32:08.562Z"
   },
   {
    "duration": 422,
    "start_time": "2022-01-22T12:32:23.042Z"
   },
   {
    "duration": 2320,
    "start_time": "2022-01-22T12:32:37.170Z"
   },
   {
    "duration": 395,
    "start_time": "2022-01-22T12:32:41.838Z"
   },
   {
    "duration": 1954,
    "start_time": "2022-01-22T12:33:01.565Z"
   },
   {
    "duration": 94,
    "start_time": "2022-01-22T12:33:05.703Z"
   },
   {
    "duration": 4,
    "start_time": "2022-01-22T12:33:07.443Z"
   },
   {
    "duration": 3,
    "start_time": "2022-01-22T12:33:10.244Z"
   },
   {
    "duration": 247,
    "start_time": "2022-01-22T12:33:11.198Z"
   },
   {
    "duration": 275,
    "start_time": "2022-01-22T12:33:29.096Z"
   },
   {
    "duration": 209,
    "start_time": "2022-01-22T12:34:09.022Z"
   },
   {
    "duration": 141,
    "start_time": "2022-01-22T12:34:19.059Z"
   },
   {
    "duration": 4,
    "start_time": "2022-01-22T12:34:19.867Z"
   },
   {
    "duration": 3,
    "start_time": "2022-01-22T12:34:21.369Z"
   },
   {
    "duration": 251,
    "start_time": "2022-01-22T12:34:30.734Z"
   },
   {
    "duration": 3309,
    "start_time": "2022-01-22T12:34:54.188Z"
   },
   {
    "duration": 1926,
    "start_time": "2022-01-22T12:34:57.499Z"
   },
   {
    "duration": 3314,
    "start_time": "2022-01-22T12:34:59.427Z"
   },
   {
    "duration": 20,
    "start_time": "2022-01-22T12:35:02.743Z"
   },
   {
    "duration": 39,
    "start_time": "2022-01-22T12:35:02.765Z"
   },
   {
    "duration": 289,
    "start_time": "2022-01-22T12:35:02.806Z"
   },
   {
    "duration": 35,
    "start_time": "2022-01-22T12:35:03.096Z"
   },
   {
    "duration": 15,
    "start_time": "2022-01-22T12:35:03.134Z"
   },
   {
    "duration": 3958,
    "start_time": "2022-01-22T12:35:03.151Z"
   },
   {
    "duration": 4673,
    "start_time": "2022-01-22T12:35:08.081Z"
   },
   {
    "duration": 40,
    "start_time": "2022-01-22T12:35:16.920Z"
   },
   {
    "duration": 4,
    "start_time": "2022-01-22T12:35:17.560Z"
   },
   {
    "duration": 6,
    "start_time": "2022-01-22T12:35:18.049Z"
   },
   {
    "duration": 11822,
    "start_time": "2022-01-22T12:35:18.482Z"
   },
   {
    "duration": 53,
    "start_time": "2022-01-22T12:36:03.125Z"
   },
   {
    "duration": 4,
    "start_time": "2022-01-22T12:36:03.740Z"
   },
   {
    "duration": 48,
    "start_time": "2022-01-22T12:36:15.713Z"
   },
   {
    "duration": 3,
    "start_time": "2022-01-22T12:36:16.223Z"
   },
   {
    "duration": 4,
    "start_time": "2022-01-22T12:36:21.017Z"
   },
   {
    "duration": 18,
    "start_time": "2022-01-22T12:36:24.954Z"
   },
   {
    "duration": 11344,
    "start_time": "2022-01-22T12:36:25.408Z"
   },
   {
    "duration": 8132,
    "start_time": "2022-01-22T12:36:48.892Z"
   },
   {
    "duration": 8562,
    "start_time": "2022-01-22T12:37:36.261Z"
   },
   {
    "duration": 223738,
    "start_time": "2022-01-22T12:39:43.923Z"
   },
   {
    "duration": 114660,
    "start_time": "2022-01-22T12:43:27.663Z"
   },
   {
    "duration": 33349,
    "start_time": "2022-01-22T12:45:22.324Z"
   },
   {
    "duration": 539559,
    "start_time": "2022-01-22T12:46:48.516Z"
   },
   {
    "duration": 170846,
    "start_time": "2022-01-22T12:55:48.077Z"
   },
   {
    "duration": 532038,
    "start_time": "2022-01-22T12:58:38.925Z"
   },
   {
    "duration": 8071,
    "start_time": "2022-01-22T13:16:19.243Z"
   },
   {
    "duration": 8596,
    "start_time": "2022-01-22T13:16:56.266Z"
   },
   {
    "duration": 8720,
    "start_time": "2022-01-22T13:17:10.902Z"
   },
   {
    "duration": 8501,
    "start_time": "2022-01-22T13:17:23.029Z"
   },
   {
    "duration": 8835,
    "start_time": "2022-01-22T13:17:44.597Z"
   },
   {
    "duration": 8076,
    "start_time": "2022-01-22T13:18:32.133Z"
   },
   {
    "duration": 8596,
    "start_time": "2022-01-22T13:18:56.472Z"
   },
   {
    "duration": 8066,
    "start_time": "2022-01-22T13:19:57.754Z"
   },
   {
    "duration": 8465,
    "start_time": "2022-01-22T13:20:38.974Z"
   },
   {
    "duration": 8120,
    "start_time": "2022-01-22T13:20:56.693Z"
   },
   {
    "duration": 8132,
    "start_time": "2022-01-22T13:21:12.378Z"
   },
   {
    "duration": 8707,
    "start_time": "2022-01-22T13:21:36.795Z"
   },
   {
    "duration": 8161,
    "start_time": "2022-01-22T13:21:48.468Z"
   },
   {
    "duration": 8824,
    "start_time": "2022-01-22T13:22:44.981Z"
   },
   {
    "duration": 9205,
    "start_time": "2022-01-22T13:23:10.919Z"
   },
   {
    "duration": 8491,
    "start_time": "2022-01-22T13:24:08.747Z"
   },
   {
    "duration": 8175,
    "start_time": "2022-01-22T13:24:23.647Z"
   },
   {
    "duration": 8226,
    "start_time": "2022-01-22T13:25:08.486Z"
   },
   {
    "duration": 8099,
    "start_time": "2022-01-22T13:25:50.916Z"
   }
  ],
  "kernelspec": {
   "display_name": "Python 3 (ipykernel)",
   "language": "python",
   "name": "python3"
  },
  "language_info": {
   "codemirror_mode": {
    "name": "ipython",
    "version": 3
   },
   "file_extension": ".py",
   "mimetype": "text/x-python",
   "name": "python",
   "nbconvert_exporter": "python",
   "pygments_lexer": "ipython3",
   "version": "3.8.8"
  },
  "toc": {
   "base_numbering": 1,
   "nav_menu": {},
   "number_sections": true,
   "sideBar": true,
   "skip_h1_title": true,
   "title_cell": "Содержание",
   "title_sidebar": "Contents",
   "toc_cell": true,
   "toc_position": {
    "height": "calc(100% - 180px)",
    "left": "10px",
    "top": "150px",
    "width": "302.391px"
   },
   "toc_section_display": true,
   "toc_window_display": false
  }
 },
 "nbformat": 4,
 "nbformat_minor": 2
}
